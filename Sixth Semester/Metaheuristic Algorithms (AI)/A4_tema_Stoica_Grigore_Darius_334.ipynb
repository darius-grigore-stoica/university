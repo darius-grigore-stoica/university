{
  "nbformat": 4,
  "nbformat_minor": 0,
  "metadata": {
    "colab": {
      "provenance": [],
      "toc_visible": true
    },
    "kernelspec": {
      "name": "python3",
      "display_name": "Python 3"
    },
    "language_info": {
      "name": "python"
    }
  },
  "cells": [
    {
      "cell_type": "markdown",
      "source": [
        "#<h1><center>Lab 4 - A4</center></h1>"
      ],
      "metadata": {
        "id": "sNCROynFNLhe"
      }
    },
    {
      "cell_type": "markdown",
      "source": [
        "## Imports"
      ],
      "metadata": {
        "id": "hYoxAJZNOi38"
      }
    },
    {
      "cell_type": "code",
      "source": [
        "import numpy as np\n",
        "import matplotlib.pyplot as plt\n",
        "import random\n",
        "import math\n",
        "import time\n",
        "import pickle as pk\n",
        "# Importuri legate de sklearn\n",
        "from sklearn import datasets\n",
        "from sklearn.tree import DecisionTreeClassifier, DecisionTreeRegressor\n",
        "from sklearn.pipeline import Pipeline\n",
        "from sklearn.neural_network import MLPClassifier, MLPRegressor\n",
        "from sklearn.metrics import make_scorer, accuracy_score, precision_score, recall_score, f1_score, confusion_matrix, classification_report, mean_squared_error, r2_score\n",
        "from sklearn.preprocessing import MinMaxScaler, StandardScaler, MaxAbsScaler, Normalizer\n",
        "from sklearn.model_selection import cross_validate, train_test_split"
      ],
      "metadata": {
        "id": "70iMGWZ5Ok1v"
      },
      "execution_count": 2,
      "outputs": []
    },
    {
      "cell_type": "code",
      "source": [
        "# Importuri utile pentru tensorflow\n",
        "#import tensorflow as tf\n",
        "#from tensorflow import keras\n",
        "#from tensorflow.keras import layers\n",
        "\n",
        "# Importuri utile pentru pytorch\n",
        "#import torch\n",
        "#import torch.nn as nn\n",
        "#import torch.nn.functional as F\n",
        "#import torch.optim as optim"
      ],
      "metadata": {
        "id": "aeiiJcidPEIN"
      },
      "execution_count": null,
      "outputs": []
    },
    {
      "cell_type": "markdown",
      "source": [
        "## Lucru în timpul laboratorului\n",
        "\n",
        "1.\tCompletarea de cod în fișierul Jupyter Notebook (A4.ipynb) unde este notat cu TODO:\n",
        " 1.\tDespărțirea seturilor de date în train și test (5p)\n",
        " 1.\tNormalizarea datelor (10p)\n",
        " 1.\tCompletarea de cod pentru arborele de decizie (10)\n",
        " 1.\tCompletarea de cod pentru funcția de cross-over a arborelui de decizie și antrenarea acestuia (20p)\n",
        " 1.\tCompletarea de cod pentru rețeaua neuronală (10)\n",
        " 1.\tCompletarea de cod pentru funcția de cross-over a rețelei neuronale și antrenarea acesteia (20p)\n",
        "\n",
        "Punctele se împart în mod egal între problemele de clasificare (Iris) și regresie (Diabetes) pentru fiecare subpunct de la punctul 1.\n",
        "\n",
        "**Total Punctaj A4-Lab = 75p**\n",
        "\n",
        "**Deadline Lab 4**\n"
      ],
      "metadata": {
        "id": "WSQEmGauNOtE"
      }
    },
    {
      "cell_type": "markdown",
      "source": [
        "### Clasificare - Iris"
      ],
      "metadata": {
        "id": "qkZ_8BayOQH5"
      }
    },
    {
      "cell_type": "markdown",
      "source": [
        "### Utils"
      ],
      "metadata": {
        "id": "2M8m3B4dYu4c"
      }
    },
    {
      "cell_type": "code",
      "source": [
        "scoring = {'accuracy' : make_scorer(accuracy_score),\n",
        "           'precision' : make_scorer(precision_score, average='weighted'),\n",
        "           'recall' : make_scorer(recall_score, average='weighted'),\n",
        "           'f1_score' : make_scorer(f1_score, average='weighted')}\n",
        "def get_score_mean(scores):\n",
        "  for method in scores:\n",
        "      scores[method] = np.mean(scores[method])"
      ],
      "metadata": {
        "id": "turbylGlYyMi"
      },
      "execution_count": null,
      "outputs": []
    },
    {
      "cell_type": "markdown",
      "source": [
        "#### Încărcare și separare date"
      ],
      "metadata": {
        "id": "lxo8-UwCOU62"
      }
    },
    {
      "cell_type": "code",
      "source": [
        "# Re-rulați începând de la această celulă dacă apar erori de nerezolvat la date\n",
        "iris = datasets.load_iris()\n",
        "X = iris.data\n",
        "y = iris.target"
      ],
      "metadata": {
        "id": "6rR1j6cgNyFl"
      },
      "execution_count": null,
      "outputs": []
    },
    {
      "cell_type": "code",
      "source": [
        "print(X.shape)\n",
        "print(y.shape)"
      ],
      "metadata": {
        "colab": {
          "base_uri": "https://localhost:8080/"
        },
        "id": "zGH6p2WbYESP",
        "outputId": "d9357825-603c-4eea-e300-4e34c096e582"
      },
      "execution_count": null,
      "outputs": [
        {
          "output_type": "stream",
          "name": "stdout",
          "text": [
            "(150, 4)\n",
            "(150,)\n"
          ]
        }
      ]
    },
    {
      "cell_type": "code",
      "source": [
        "print(X[:5])\n",
        "print(y[:5])"
      ],
      "metadata": {
        "colab": {
          "base_uri": "https://localhost:8080/"
        },
        "id": "2dxEpoCuYOOR",
        "outputId": "49029460-6cf4-473c-c708-f47b015d6702"
      },
      "execution_count": null,
      "outputs": [
        {
          "output_type": "stream",
          "name": "stdout",
          "text": [
            "[[5.1 3.5 1.4 0.2]\n",
            " [4.9 3.  1.4 0.2]\n",
            " [4.7 3.2 1.3 0.2]\n",
            " [4.6 3.1 1.5 0.2]\n",
            " [5.  3.6 1.4 0.2]]\n",
            "[0 0 0 0 0]\n"
          ]
        }
      ]
    },
    {
      "cell_type": "markdown",
      "source": [
        "#### Normalizarea datelor și separarea datelor"
      ],
      "metadata": {
        "id": "C3Fb_dIUOfWa"
      }
    },
    {
      "cell_type": "code",
      "source": [
        "# TODO: Aplică un scaler la alegere pentru datele de intrare\n",
        "# https://scikit-learn.org/stable/modules/generated/sklearn.preprocessing.MinMaxScaler.html\n",
        "# https://scikit-learn.org/stable/modules/generated/sklearn.preprocessing.MaxAbsScaler.html\n",
        "# https://scikit-learn.org/stable/modules/generated/sklearn.preprocessing.StandardScaler.html\n",
        "# https://scikit-learn.org/1.6/modules/generated/sklearn.preprocessing.Normalizer.html\n",
        "scaler = StandardScaler() # TODO: Inițializează scaler\n",
        "X = scaler.fit_transform(X) # TODO: Aplica scaler pe datele de intrare\n",
        "\n",
        "x_train, x_test, y_train, y_test = train_test_split(X, y, test_size=0.3, random_state=42) # TODO: Aplică separarea pe train și test utilizând sklearn\n",
        "# https://scikit-learn.org/1.6/modules/generated/sklearn.model_selection.train_test_split.html"
      ],
      "metadata": {
        "id": "ivdYyk_COfA3"
      },
      "execution_count": null,
      "outputs": []
    },
    {
      "cell_type": "markdown",
      "source": [
        "#### Pregătire model și cross-validation"
      ],
      "metadata": {
        "id": "toAhgjO9P4Zj"
      }
    },
    {
      "cell_type": "markdown",
      "source": [
        "##### Arbore de decizie"
      ],
      "metadata": {
        "id": "bQ7IvfQ-ccx6"
      }
    },
    {
      "cell_type": "code",
      "source": [
        "def get_score_dt(X, y, max_leaf_nodes, scoring):\n",
        "    \"\"\"\n",
        "    Funcție pentru a obține mai multe scoruri folosind un arbore de decizie.\n",
        "    Astfel putem evalua și setul de date\n",
        "    \"\"\"\n",
        "    my_pipeline = Pipeline(steps=[\n",
        "                              ('model', DecisionTreeClassifier(\n",
        "                                  max_leaf_nodes=max_leaf_nodes,\n",
        "                                  random_state=1, class_weight='balanced'))\n",
        "                             ]) # TODO: Completare cod cu datele corecte unde este None\n",
        "    scores = cross_validate(my_pipeline, X=X, y=y,\n",
        "                            cv=5, scoring=scoring,\n",
        "                            return_train_score=True, error_score='raise') # TODO: Completare cod cu datele corecte unde este None\n",
        "    get_score_mean(scores)\n",
        "    return scores"
      ],
      "metadata": {
        "id": "i8AoqEYvc5a3"
      },
      "execution_count": null,
      "outputs": []
    },
    {
      "cell_type": "code",
      "source": [
        "# Verificarea codului de mai sus\n",
        "results = {}\n",
        "for i in [5, 10, 50, 100, 500, 1000]:\n",
        "    results[i] = get_score_dt(x_train, y_train, i, scoring)\n",
        "\n",
        "best_no_leafs = 5\n",
        "for result in results:\n",
        "  if results[result]['test_accuracy'] > results[best_no_leafs]['test_accuracy']:\n",
        "    best_no_leafs = result\n",
        "  print(result)\n",
        "  print(results[result])"
      ],
      "metadata": {
        "id": "8KABOT5sZLp_",
        "colab": {
          "base_uri": "https://localhost:8080/"
        },
        "outputId": "72169b33-d9c2-4e2f-ae78-4761df1461e5"
      },
      "execution_count": null,
      "outputs": [
        {
          "output_type": "stream",
          "name": "stdout",
          "text": [
            "5\n",
            "{'fit_time': np.float64(0.0029546260833740235), 'score_time': np.float64(0.008426141738891602), 'test_accuracy': np.float64(0.9333333333333333), 'train_accuracy': np.float64(0.9738095238095239), 'test_precision': np.float64(0.941005291005291), 'train_precision': np.float64(0.9743442449282271), 'test_recall': np.float64(0.9333333333333333), 'train_recall': np.float64(0.9738095238095239), 'test_f1_score': np.float64(0.9330282369357998), 'train_f1_score': np.float64(0.9738048024043655)}\n",
            "10\n",
            "{'fit_time': np.float64(0.0021225929260253905), 'score_time': np.float64(0.006742048263549805), 'test_accuracy': np.float64(0.9333333333333333), 'train_accuracy': np.float64(1.0), 'test_precision': np.float64(0.941005291005291), 'train_precision': np.float64(1.0), 'test_recall': np.float64(0.9333333333333333), 'train_recall': np.float64(1.0), 'test_f1_score': np.float64(0.9330282369357998), 'train_f1_score': np.float64(1.0)}\n",
            "50\n",
            "{'fit_time': np.float64(0.0020950794219970702), 'score_time': np.float64(0.006912517547607422), 'test_accuracy': np.float64(0.9333333333333333), 'train_accuracy': np.float64(1.0), 'test_precision': np.float64(0.941005291005291), 'train_precision': np.float64(1.0), 'test_recall': np.float64(0.9333333333333333), 'train_recall': np.float64(1.0), 'test_f1_score': np.float64(0.9330282369357998), 'train_f1_score': np.float64(1.0)}\n",
            "100\n",
            "{'fit_time': np.float64(0.002442169189453125), 'score_time': np.float64(0.008350944519042969), 'test_accuracy': np.float64(0.9333333333333333), 'train_accuracy': np.float64(1.0), 'test_precision': np.float64(0.941005291005291), 'train_precision': np.float64(1.0), 'test_recall': np.float64(0.9333333333333333), 'train_recall': np.float64(1.0), 'test_f1_score': np.float64(0.9330282369357998), 'train_f1_score': np.float64(1.0)}\n",
            "500\n",
            "{'fit_time': np.float64(0.0021903514862060547), 'score_time': np.float64(0.006933259963989258), 'test_accuracy': np.float64(0.9333333333333333), 'train_accuracy': np.float64(1.0), 'test_precision': np.float64(0.941005291005291), 'train_precision': np.float64(1.0), 'test_recall': np.float64(0.9333333333333333), 'train_recall': np.float64(1.0), 'test_f1_score': np.float64(0.9330282369357998), 'train_f1_score': np.float64(1.0)}\n",
            "1000\n",
            "{'fit_time': np.float64(0.0022114276885986327), 'score_time': np.float64(0.00663914680480957), 'test_accuracy': np.float64(0.9333333333333333), 'train_accuracy': np.float64(1.0), 'test_precision': np.float64(0.941005291005291), 'train_precision': np.float64(1.0), 'test_recall': np.float64(0.9333333333333333), 'train_recall': np.float64(1.0), 'test_f1_score': np.float64(0.9330282369357998), 'train_f1_score': np.float64(1.0)}\n"
          ]
        }
      ]
    },
    {
      "cell_type": "code",
      "source": [
        "my_pipeline = Pipeline(steps=[\n",
        "    ('model', DecisionTreeClassifier(\n",
        "        max_leaf_nodes=best_no_leafs,\n",
        "        random_state=1,\n",
        "        class_weight='balanced'))\n",
        "])\n",
        "my_pipeline.fit(x_train, y_train) # TODO: Aplică funcția fit pentru pipeline\n",
        "trained_decision_tree = my_pipeline['model']\n",
        "y_pred = trained_decision_tree.predict(x_test)"
      ],
      "metadata": {
        "id": "GSNLIv89ckHC"
      },
      "execution_count": null,
      "outputs": []
    },
    {
      "cell_type": "code",
      "source": [
        "# salvează model\n",
        "with open(f'path.pickle', 'wb') as handle:\n",
        "    pk.dump(trained_decision_tree, handle, protocol=pk.HIGHEST_PROTOCOL)"
      ],
      "metadata": {
        "id": "q_WbD-KEdPd-"
      },
      "execution_count": null,
      "outputs": []
    },
    {
      "cell_type": "code",
      "source": [
        "# încarcă model\n",
        "with open(f'path.pickle', 'rb') as handle:\n",
        "    trained_decision_tree = pk.load(handle)"
      ],
      "metadata": {
        "id": "0hweW0KddQBj"
      },
      "execution_count": null,
      "outputs": []
    },
    {
      "cell_type": "markdown",
      "source": [
        "##### Rețea neuronală"
      ],
      "metadata": {
        "id": "qzAbdGrOZctm"
      }
    },
    {
      "cell_type": "code",
      "source": [
        "def get_score_mlp(X, y, n_hidden_layers, scoring):\n",
        "    \"\"\"\n",
        "    Funcție pentru a obține mai multe scoruri folosind o rețea neuronală.\n",
        "    Astfel putem evalua și setul de date\n",
        "    \"\"\"\n",
        "    hidden_layer_sizes = tuple([10] * n_hidden_layers)\n",
        "    my_pipeline = Pipeline(steps=[\n",
        "                              ('model', MLPClassifier(solver='lbfgs', alpha=1e-5,\n",
        "                                                      hidden_layer_sizes=hidden_layer_sizes,\n",
        "                                                      random_state=1, max_iter=100))\n",
        "                             ]) # TODO: Completare cod cu datele corecte unde este None\n",
        "    scores = cross_validate(my_pipeline, X, y,\n",
        "                            cv=5, scoring=scoring,\n",
        "                            return_train_score=True,\n",
        "                            error_score='raise')\n",
        "                            # TODO: # TODO: Completare cod cu datele corecte unde este None\n",
        "    get_score_mean(scores)\n",
        "    return scores"
      ],
      "metadata": {
        "id": "AvytFIrJRRGq"
      },
      "execution_count": null,
      "outputs": []
    },
    {
      "cell_type": "code",
      "source": [
        "# Verificarea codului de mai sus\n",
        "results = {}\n",
        "for i in [1, 2, 3, 4, 5, 6]:\n",
        "    results[i] = get_score_mlp(x_train, y_train, i, scoring)\n",
        "\n",
        "best_no_hidden_layers = 1\n",
        "for result in results:\n",
        "  if results[result]['test_accuracy'] > results[best_no_hidden_layers]['test_accuracy']:\n",
        "    best_no_hidden_layers = result\n",
        "  print(result)\n",
        "  print(results[result])"
      ],
      "metadata": {
        "id": "PwWV0eV-dHTf",
        "colab": {
          "base_uri": "https://localhost:8080/"
        },
        "outputId": "d0c90f45-35ba-4ba4-b01b-68c049cb1912"
      },
      "execution_count": null,
      "outputs": [
        {
          "output_type": "stream",
          "name": "stdout",
          "text": [
            "1\n",
            "{'fit_time': np.float64(0.023615312576293946), 'score_time': np.float64(0.00722346305847168), 'test_accuracy': np.float64(0.9333333333333333), 'train_accuracy': np.float64(0.9952380952380953), 'test_precision': np.float64(0.9424338624338624), 'train_precision': np.float64(0.9952380952380953), 'test_recall': np.float64(0.9333333333333333), 'train_recall': np.float64(0.9952380952380953), 'test_f1_score': np.float64(0.9331759199406259), 'train_f1_score': np.float64(0.9952380952380953)}\n",
            "2\n",
            "{'fit_time': np.float64(0.029997873306274413), 'score_time': np.float64(0.00907120704650879), 'test_accuracy': np.float64(0.9428571428571428), 'train_accuracy': np.float64(0.9952380952380953), 'test_precision': np.float64(0.9531481481481482), 'train_precision': np.float64(0.9952380952380953), 'test_recall': np.float64(0.9428571428571428), 'train_recall': np.float64(0.9952380952380953), 'test_f1_score': np.float64(0.942022945930509), 'train_f1_score': np.float64(0.9952380952380953)}\n",
            "3\n",
            "{'fit_time': np.float64(0.03369011878967285), 'score_time': np.float64(0.0072993278503417965), 'test_accuracy': np.float64(0.9428571428571428), 'train_accuracy': np.float64(1.0), 'test_precision': np.float64(0.9531481481481482), 'train_precision': np.float64(1.0), 'test_recall': np.float64(0.9428571428571428), 'train_recall': np.float64(1.0), 'test_f1_score': np.float64(0.942022945930509), 'train_f1_score': np.float64(1.0)}\n",
            "4\n",
            "{'fit_time': np.float64(0.027421998977661132), 'score_time': np.float64(0.007164287567138672), 'test_accuracy': np.float64(0.9428571428571428), 'train_accuracy': np.float64(1.0), 'test_precision': np.float64(0.9531481481481482), 'train_precision': np.float64(1.0), 'test_recall': np.float64(0.9428571428571428), 'train_recall': np.float64(1.0), 'test_f1_score': np.float64(0.9426997294644354), 'train_f1_score': np.float64(1.0)}\n",
            "5\n",
            "{'fit_time': np.float64(0.056527137756347656), 'score_time': np.float64(0.0077420234680175785), 'test_accuracy': np.float64(0.9333333333333333), 'train_accuracy': np.float64(0.9928571428571429), 'test_precision': np.float64(0.9466666666666667), 'train_precision': np.float64(0.9935267857142858), 'test_recall': np.float64(0.9333333333333333), 'train_recall': np.float64(0.9928571428571429), 'test_f1_score': np.float64(0.9330058519134148), 'train_f1_score': np.float64(0.9928448169604339)}\n",
            "6\n",
            "{'fit_time': np.float64(0.10799827575683593), 'score_time': np.float64(0.008681678771972656), 'test_accuracy': np.float64(0.9238095238095237), 'train_accuracy': np.float64(0.9928571428571429), 'test_precision': np.float64(0.9352910052910053), 'train_precision': np.float64(0.9929339477726575), 'test_recall': np.float64(0.9238095238095237), 'train_recall': np.float64(0.9928571428571429), 'test_f1_score': np.float64(0.9236102475178104), 'train_f1_score': np.float64(0.992856481297715)}\n"
          ]
        },
        {
          "output_type": "stream",
          "name": "stderr",
          "text": [
            "/usr/local/lib/python3.11/dist-packages/sklearn/neural_network/_multilayer_perceptron.py:546: ConvergenceWarning: lbfgs failed to converge (status=1):\n",
            "STOP: TOTAL NO. of ITERATIONS REACHED LIMIT.\n",
            "\n",
            "Increase the number of iterations (max_iter) or scale the data as shown in:\n",
            "    https://scikit-learn.org/stable/modules/preprocessing.html\n",
            "  self.n_iter_ = _check_optimize_result(\"lbfgs\", opt_res, self.max_iter)\n"
          ]
        }
      ]
    },
    {
      "cell_type": "code",
      "source": [
        "my_pipeline = my_pipeline = Pipeline(steps=[\n",
        "    ('model', MLPClassifier(solver='lbfgs', alpha=1e-5,\n",
        "                            hidden_layer_sizes=best_no_hidden_layers,\n",
        "                            random_state=1, max_iter=100))\n",
        "])\n",
        "my_pipeline.fit(x_train, y_train)\n",
        "trained_mlp = my_pipeline['model']\n",
        "y_pred = trained_mlp.predict(x_test)"
      ],
      "metadata": {
        "id": "0Bq71A-edOMg"
      },
      "execution_count": null,
      "outputs": []
    },
    {
      "cell_type": "code",
      "source": [
        "# salvează model\n",
        "with open(f'path.pickle', 'wb') as handle:\n",
        "    pk.dump(trained_mlp, handle, protocol=pk.HIGHEST_PROTOCOL)"
      ],
      "metadata": {
        "id": "RHHbJyPbe2xG"
      },
      "execution_count": null,
      "outputs": []
    },
    {
      "cell_type": "code",
      "source": [
        "# încarcă model\n",
        "with open(f'path.pickle', 'rb') as handle:\n",
        "    trained_mlp = pk.load(handle)"
      ],
      "metadata": {
        "id": "Rr2CzpwefA9G"
      },
      "execution_count": null,
      "outputs": []
    },
    {
      "cell_type": "markdown",
      "source": [
        "### Regresie - Diabetes"
      ],
      "metadata": {
        "id": "erlAufIQPjMj"
      }
    },
    {
      "cell_type": "markdown",
      "source": [
        "#### Utils"
      ],
      "metadata": {
        "id": "5eIeIjZHaeXH"
      }
    },
    {
      "cell_type": "code",
      "source": [
        "# Funcții pentru a obține acuratețea\n",
        "scoring = {'mse' : make_scorer(mean_squared_error),\n",
        "           'r2' : make_scorer(r2_score)}\n",
        "def get_score_mean(scores):\n",
        "  for method in scores:\n",
        "      scores[method] = np.mean(scores[method])"
      ],
      "metadata": {
        "id": "BshDB7EHaf16"
      },
      "execution_count": null,
      "outputs": []
    },
    {
      "cell_type": "markdown",
      "source": [
        "#### Încărcare și separare date"
      ],
      "metadata": {
        "id": "Sfm1r-dUPn1_"
      }
    },
    {
      "cell_type": "code",
      "source": [
        "# Re-rulați începând de la această celulă dacă apar erori de nerezolvat la date\n",
        "diabetes = datasets.load_diabetes()\n",
        "X = diabetes.data\n",
        "y = diabetes.target"
      ],
      "metadata": {
        "id": "u6IvLSFiPnoo"
      },
      "execution_count": null,
      "outputs": []
    },
    {
      "cell_type": "code",
      "source": [
        "print(X.shape)\n",
        "print(y.shape)"
      ],
      "metadata": {
        "colab": {
          "base_uri": "https://localhost:8080/"
        },
        "id": "xMXgVEZUhKro",
        "outputId": "caf42e64-d1bc-4e45-bacc-0cc8bc7b1a97"
      },
      "execution_count": null,
      "outputs": [
        {
          "output_type": "stream",
          "name": "stdout",
          "text": [
            "(442, 10)\n",
            "(442,)\n"
          ]
        }
      ]
    },
    {
      "cell_type": "code",
      "source": [
        "print(X[:5])\n",
        "print(y[:5])"
      ],
      "metadata": {
        "colab": {
          "base_uri": "https://localhost:8080/"
        },
        "id": "z14YLg-0hM51",
        "outputId": "0cdf9232-6fdc-4c56-aa70-05f591892e66"
      },
      "execution_count": null,
      "outputs": [
        {
          "output_type": "stream",
          "name": "stdout",
          "text": [
            "[[ 0.03807591  0.05068012  0.06169621  0.02187239 -0.0442235  -0.03482076\n",
            "  -0.04340085 -0.00259226  0.01990749 -0.01764613]\n",
            " [-0.00188202 -0.04464164 -0.05147406 -0.02632753 -0.00844872 -0.01916334\n",
            "   0.07441156 -0.03949338 -0.06833155 -0.09220405]\n",
            " [ 0.08529891  0.05068012  0.04445121 -0.00567042 -0.04559945 -0.03419447\n",
            "  -0.03235593 -0.00259226  0.00286131 -0.02593034]\n",
            " [-0.08906294 -0.04464164 -0.01159501 -0.03665608  0.01219057  0.02499059\n",
            "  -0.03603757  0.03430886  0.02268774 -0.00936191]\n",
            " [ 0.00538306 -0.04464164 -0.03638469  0.02187239  0.00393485  0.01559614\n",
            "   0.00814208 -0.00259226 -0.03198764 -0.04664087]]\n",
            "[151.  75. 141. 206. 135.]\n"
          ]
        }
      ]
    },
    {
      "cell_type": "markdown",
      "source": [
        "#### Normalizarea datelor și separarea datelor"
      ],
      "metadata": {
        "id": "zouMF7axPs93"
      }
    },
    {
      "cell_type": "code",
      "source": [
        "# TODO: Aplică un scaler la alegere pentru datele de intrare\n",
        "# https://scikit-learn.org/stable/modules/generated/sklearn.preprocessing.MinMaxScaler.html\n",
        "# https://scikit-learn.org/stable/modules/generated/sklearn.preprocessing.MaxAbsScaler.html\n",
        "# https://scikit-learn.org/stable/modules/generated/sklearn.preprocessing.StandardScaler.html\n",
        "# https://scikit-learn.org/1.6/modules/generated/sklearn.preprocessing.Normalizer.html\n",
        "scaler = StandardScaler() # TODO: Inițializează scaler\n",
        "X = scaler.fit_transform(X) # TODO: Aplica scaler pe datele de intrare\n",
        "\n",
        "x_train, x_test, y_train, y_test =  train_test_split(X, y, test_size=0.3, random_state=42)# TODO: Aplică separarea pe train și test utilizând sklearn\n",
        "# https://scikit-learn.org/1.6/modules/generated/sklearn.model_selection.train_test_split.html"
      ],
      "metadata": {
        "id": "ucJI7GGkPsti"
      },
      "execution_count": null,
      "outputs": []
    },
    {
      "cell_type": "markdown",
      "source": [
        "#### Pregătire model și cross-over"
      ],
      "metadata": {
        "id": "XX-k4VmHPyVG"
      }
    },
    {
      "cell_type": "markdown",
      "source": [
        "##### Arbore de decizie"
      ],
      "metadata": {
        "id": "3lPN3kHmfa3Z"
      }
    },
    {
      "cell_type": "code",
      "source": [
        "def get_score_dt(X, y, max_leaf_nodes, scoring):\n",
        "    \"\"\"\n",
        "    Funcție pentru a obține mai multe scoruri folosind un arbore de decizie.\n",
        "    Astfel putem evalua și setul de date\n",
        "    \"\"\"\n",
        "    my_pipeline = Pipeline(steps=[\n",
        "                              ('model', DecisionTreeRegressor(\n",
        "                                  max_leaf_nodes=max_leaf_nodes,\n",
        "                                  random_state=1))\n",
        "                             ]) # TODO: Completare cod cu datele corecte unde este None\n",
        "    scores = cross_validate(my_pipeline, X=X, y=y,\n",
        "                            cv=5, scoring=scoring,\n",
        "                            return_train_score=True, error_score='raise')  # TODO: Completare cod cu datele corecte unde este None\n",
        "    get_score_mean(scores)\n",
        "    return scores"
      ],
      "metadata": {
        "id": "BPC5Nm-6P3bG"
      },
      "execution_count": null,
      "outputs": []
    },
    {
      "cell_type": "code",
      "source": [
        "# Verificarea codului de mai sus\n",
        "results = {}\n",
        "for i in [5, 10, 50, 100, 500, 1000]:\n",
        "    results[i] = get_score_dt(x_train, y_train, i, scoring)\n",
        "\n",
        "best_no_leafs = 5\n",
        "for result in results:\n",
        "  if results[result]['test_r2'] > results[best_no_leafs]['test_r2']: # TODO: Alege metrica pe baza căreia să se compare\n",
        "    best_no_leafs = result\n",
        "  print(result)\n",
        "  print(results[result])"
      ],
      "metadata": {
        "id": "4LFS_uPXfocW",
        "colab": {
          "base_uri": "https://localhost:8080/"
        },
        "outputId": "8a041000-58af-4bf9-f23d-bbcd57631566"
      },
      "execution_count": null,
      "outputs": [
        {
          "output_type": "stream",
          "name": "stdout",
          "text": [
            "5\n",
            "{'fit_time': np.float64(0.0031175613403320312), 'score_time': np.float64(0.0019525527954101563), 'test_mse': np.float64(4047.7040044567198), 'train_mse': np.float64(3152.580323807637), 'test_r2': np.float64(0.3043986774261417), 'train_r2': np.float64(0.48561410575418373)}\n",
            "10\n",
            "{'fit_time': np.float64(0.002317523956298828), 'score_time': np.float64(0.0026166439056396484), 'test_mse': np.float64(4001.028958491329), 'train_mse': np.float64(2504.1648648268456), 'test_r2': np.float64(0.3130231123579805), 'train_r2': np.float64(0.5909975895524135)}\n",
            "50\n",
            "{'fit_time': np.float64(0.0029506683349609375), 'score_time': np.float64(0.0018105506896972656), 'test_mse': np.float64(5563.630610397755), 'train_mse': np.float64(602.5846598846633), 'test_r2': np.float64(0.05423827712260791), 'train_r2': np.float64(0.9015030261364165)}\n",
            "100\n",
            "{'fit_time': np.float64(0.0031748294830322267), 'score_time': np.float64(0.0018126487731933594), 'test_mse': np.float64(6284.694472125367), 'train_mse': np.float64(108.00098620253543), 'test_r2': np.float64(-0.06597095032738645), 'train_r2': np.float64(0.982369221207637)}\n",
            "500\n",
            "{'fit_time': np.float64(0.00338897705078125), 'score_time': np.float64(0.002107524871826172), 'test_mse': np.float64(6372.406663141195), 'train_mse': np.float64(0.0), 'test_r2': np.float64(-0.080009505546321), 'train_r2': np.float64(1.0)}\n",
            "1000\n",
            "{'fit_time': np.float64(0.0035080909729003906), 'score_time': np.float64(0.002462291717529297), 'test_mse': np.float64(6372.406663141195), 'train_mse': np.float64(0.0), 'test_r2': np.float64(-0.080009505546321), 'train_r2': np.float64(1.0)}\n"
          ]
        }
      ]
    },
    {
      "cell_type": "code",
      "source": [
        "my_pipeline = Pipeline(steps=[\n",
        "    ('model', DecisionTreeRegressor(\n",
        "        max_leaf_nodes=best_no_leafs,\n",
        "        random_state=1,))\n",
        "])\n",
        "my_pipeline.fit(x_train, y_train)\n",
        "trained_decision_tree = my_pipeline['model']\n",
        "y_pred = trained_decision_tree.predict(x_test)"
      ],
      "metadata": {
        "id": "dHALeoRDfo_h"
      },
      "execution_count": null,
      "outputs": []
    },
    {
      "cell_type": "code",
      "source": [
        "# salvează model\n",
        "with open(f'path.pickle', 'wb') as handle:\n",
        "    pk.dump(trained_decision_tree, handle, protocol=pk.HIGHEST_PROTOCOL)"
      ],
      "metadata": {
        "id": "kjIvfM_qfpy6"
      },
      "execution_count": null,
      "outputs": []
    },
    {
      "cell_type": "code",
      "source": [
        "# încarcă model\n",
        "with open(f'path.pickle', 'rb') as handle:\n",
        "    trained_decision_tree = pk.load(handle)"
      ],
      "metadata": {
        "id": "FI3gIHHZfpvf"
      },
      "execution_count": null,
      "outputs": []
    },
    {
      "cell_type": "markdown",
      "source": [
        "##### Rețea neuronală"
      ],
      "metadata": {
        "id": "LG-ybtVafcei"
      }
    },
    {
      "cell_type": "code",
      "source": [
        "def get_score_mlp(X, y, n_hidden_layers, scoring):\n",
        "    \"\"\"\n",
        "    Funcție pentru a obține mai multe scoruri folosind o rețea neuronală.\n",
        "    Astfel putem evalua și setul de date\n",
        "    \"\"\"\n",
        "    hidden_layer_sizes = tuple([10] * n_hidden_layers)\n",
        "    my_pipeline = Pipeline(steps=[\n",
        "                              ('model', MLPClassifier(solver='lbfgs', alpha=1e-5,\n",
        "                                                      hidden_layer_sizes=hidden_layer_sizes,\n",
        "                                                      random_state=1, max_iter=100))\n",
        "                             ]) # TODO: Completare cod cu datele corecte unde este None\n",
        "    scores = cross_validate(my_pipeline, X=X, y=y,\n",
        "                            cv=5, scoring=scoring,\n",
        "                            return_train_score=True,\n",
        "                            error_score='raise')\n",
        "                            # TODO: # TODO: Completare cod cu datele corecte unde este None\n",
        "    get_score_mean(scores)\n",
        "    return scores"
      ],
      "metadata": {
        "id": "iAtPcL6rRYZz"
      },
      "execution_count": null,
      "outputs": []
    },
    {
      "cell_type": "code",
      "source": [
        "for i in [1, 2, 3, 4, 5, 6]:\n",
        "    results[i] = get_score_mlp(x_train, y_train, i, scoring)\n",
        "\n",
        "best_no_hidden_layers = 1\n",
        "for result in results:\n",
        "  if results[result]['test_mse'] > results[best_no_hidden_layers]['test_mse']: # TODO: Alege metrica pe baza căreia să se compare\n",
        "    best_no_hidden_layers = result\n",
        "  print(result)\n",
        "  print(results[result])"
      ],
      "metadata": {
        "id": "Phkq6BaFfh02",
        "colab": {
          "base_uri": "https://localhost:8080/"
        },
        "outputId": "f39d5002-dd0f-4ad9-a41a-7fa7496637b7"
      },
      "execution_count": null,
      "outputs": [
        {
          "output_type": "stream",
          "name": "stderr",
          "text": [
            "/usr/local/lib/python3.11/dist-packages/sklearn/model_selection/_split.py:805: UserWarning: The least populated class in y has only 1 members, which is less than n_splits=5.\n",
            "  warnings.warn(\n",
            "/usr/local/lib/python3.11/dist-packages/sklearn/neural_network/_multilayer_perceptron.py:546: ConvergenceWarning: lbfgs failed to converge (status=1):\n",
            "STOP: TOTAL NO. of ITERATIONS REACHED LIMIT.\n",
            "\n",
            "Increase the number of iterations (max_iter) or scale the data as shown in:\n",
            "    https://scikit-learn.org/stable/modules/preprocessing.html\n",
            "  self.n_iter_ = _check_optimize_result(\"lbfgs\", opt_res, self.max_iter)\n",
            "/usr/local/lib/python3.11/dist-packages/sklearn/neural_network/_multilayer_perceptron.py:546: ConvergenceWarning: lbfgs failed to converge (status=1):\n",
            "STOP: TOTAL NO. of ITERATIONS REACHED LIMIT.\n",
            "\n",
            "Increase the number of iterations (max_iter) or scale the data as shown in:\n",
            "    https://scikit-learn.org/stable/modules/preprocessing.html\n",
            "  self.n_iter_ = _check_optimize_result(\"lbfgs\", opt_res, self.max_iter)\n",
            "/usr/local/lib/python3.11/dist-packages/sklearn/neural_network/_multilayer_perceptron.py:546: ConvergenceWarning: lbfgs failed to converge (status=1):\n",
            "STOP: TOTAL NO. of ITERATIONS REACHED LIMIT.\n",
            "\n",
            "Increase the number of iterations (max_iter) or scale the data as shown in:\n",
            "    https://scikit-learn.org/stable/modules/preprocessing.html\n",
            "  self.n_iter_ = _check_optimize_result(\"lbfgs\", opt_res, self.max_iter)\n",
            "/usr/local/lib/python3.11/dist-packages/sklearn/neural_network/_multilayer_perceptron.py:546: ConvergenceWarning: lbfgs failed to converge (status=1):\n",
            "STOP: TOTAL NO. of ITERATIONS REACHED LIMIT.\n",
            "\n",
            "Increase the number of iterations (max_iter) or scale the data as shown in:\n",
            "    https://scikit-learn.org/stable/modules/preprocessing.html\n",
            "  self.n_iter_ = _check_optimize_result(\"lbfgs\", opt_res, self.max_iter)\n",
            "/usr/local/lib/python3.11/dist-packages/sklearn/neural_network/_multilayer_perceptron.py:546: ConvergenceWarning: lbfgs failed to converge (status=1):\n",
            "STOP: TOTAL NO. of ITERATIONS REACHED LIMIT.\n",
            "\n",
            "Increase the number of iterations (max_iter) or scale the data as shown in:\n",
            "    https://scikit-learn.org/stable/modules/preprocessing.html\n",
            "  self.n_iter_ = _check_optimize_result(\"lbfgs\", opt_res, self.max_iter)\n",
            "/usr/local/lib/python3.11/dist-packages/sklearn/model_selection/_split.py:805: UserWarning: The least populated class in y has only 1 members, which is less than n_splits=5.\n",
            "  warnings.warn(\n",
            "/usr/local/lib/python3.11/dist-packages/sklearn/neural_network/_multilayer_perceptron.py:546: ConvergenceWarning: lbfgs failed to converge (status=1):\n",
            "STOP: TOTAL NO. of ITERATIONS REACHED LIMIT.\n",
            "\n",
            "Increase the number of iterations (max_iter) or scale the data as shown in:\n",
            "    https://scikit-learn.org/stable/modules/preprocessing.html\n",
            "  self.n_iter_ = _check_optimize_result(\"lbfgs\", opt_res, self.max_iter)\n",
            "/usr/local/lib/python3.11/dist-packages/sklearn/neural_network/_multilayer_perceptron.py:546: ConvergenceWarning: lbfgs failed to converge (status=1):\n",
            "STOP: TOTAL NO. of ITERATIONS REACHED LIMIT.\n",
            "\n",
            "Increase the number of iterations (max_iter) or scale the data as shown in:\n",
            "    https://scikit-learn.org/stable/modules/preprocessing.html\n",
            "  self.n_iter_ = _check_optimize_result(\"lbfgs\", opt_res, self.max_iter)\n",
            "/usr/local/lib/python3.11/dist-packages/sklearn/neural_network/_multilayer_perceptron.py:546: ConvergenceWarning: lbfgs failed to converge (status=1):\n",
            "STOP: TOTAL NO. of ITERATIONS REACHED LIMIT.\n",
            "\n",
            "Increase the number of iterations (max_iter) or scale the data as shown in:\n",
            "    https://scikit-learn.org/stable/modules/preprocessing.html\n",
            "  self.n_iter_ = _check_optimize_result(\"lbfgs\", opt_res, self.max_iter)\n",
            "/usr/local/lib/python3.11/dist-packages/sklearn/neural_network/_multilayer_perceptron.py:546: ConvergenceWarning: lbfgs failed to converge (status=1):\n",
            "STOP: TOTAL NO. of ITERATIONS REACHED LIMIT.\n",
            "\n",
            "Increase the number of iterations (max_iter) or scale the data as shown in:\n",
            "    https://scikit-learn.org/stable/modules/preprocessing.html\n",
            "  self.n_iter_ = _check_optimize_result(\"lbfgs\", opt_res, self.max_iter)\n",
            "/usr/local/lib/python3.11/dist-packages/sklearn/neural_network/_multilayer_perceptron.py:546: ConvergenceWarning: lbfgs failed to converge (status=1):\n",
            "STOP: TOTAL NO. of ITERATIONS REACHED LIMIT.\n",
            "\n",
            "Increase the number of iterations (max_iter) or scale the data as shown in:\n",
            "    https://scikit-learn.org/stable/modules/preprocessing.html\n",
            "  self.n_iter_ = _check_optimize_result(\"lbfgs\", opt_res, self.max_iter)\n",
            "/usr/local/lib/python3.11/dist-packages/sklearn/model_selection/_split.py:805: UserWarning: The least populated class in y has only 1 members, which is less than n_splits=5.\n",
            "  warnings.warn(\n",
            "/usr/local/lib/python3.11/dist-packages/sklearn/neural_network/_multilayer_perceptron.py:546: ConvergenceWarning: lbfgs failed to converge (status=1):\n",
            "STOP: TOTAL NO. of ITERATIONS REACHED LIMIT.\n",
            "\n",
            "Increase the number of iterations (max_iter) or scale the data as shown in:\n",
            "    https://scikit-learn.org/stable/modules/preprocessing.html\n",
            "  self.n_iter_ = _check_optimize_result(\"lbfgs\", opt_res, self.max_iter)\n",
            "/usr/local/lib/python3.11/dist-packages/sklearn/neural_network/_multilayer_perceptron.py:546: ConvergenceWarning: lbfgs failed to converge (status=1):\n",
            "STOP: TOTAL NO. of ITERATIONS REACHED LIMIT.\n",
            "\n",
            "Increase the number of iterations (max_iter) or scale the data as shown in:\n",
            "    https://scikit-learn.org/stable/modules/preprocessing.html\n",
            "  self.n_iter_ = _check_optimize_result(\"lbfgs\", opt_res, self.max_iter)\n",
            "/usr/local/lib/python3.11/dist-packages/sklearn/neural_network/_multilayer_perceptron.py:546: ConvergenceWarning: lbfgs failed to converge (status=1):\n",
            "STOP: TOTAL NO. of ITERATIONS REACHED LIMIT.\n",
            "\n",
            "Increase the number of iterations (max_iter) or scale the data as shown in:\n",
            "    https://scikit-learn.org/stable/modules/preprocessing.html\n",
            "  self.n_iter_ = _check_optimize_result(\"lbfgs\", opt_res, self.max_iter)\n",
            "/usr/local/lib/python3.11/dist-packages/sklearn/neural_network/_multilayer_perceptron.py:546: ConvergenceWarning: lbfgs failed to converge (status=1):\n",
            "STOP: TOTAL NO. of ITERATIONS REACHED LIMIT.\n",
            "\n",
            "Increase the number of iterations (max_iter) or scale the data as shown in:\n",
            "    https://scikit-learn.org/stable/modules/preprocessing.html\n",
            "  self.n_iter_ = _check_optimize_result(\"lbfgs\", opt_res, self.max_iter)\n",
            "/usr/local/lib/python3.11/dist-packages/sklearn/neural_network/_multilayer_perceptron.py:546: ConvergenceWarning: lbfgs failed to converge (status=1):\n",
            "STOP: TOTAL NO. of ITERATIONS REACHED LIMIT.\n",
            "\n",
            "Increase the number of iterations (max_iter) or scale the data as shown in:\n",
            "    https://scikit-learn.org/stable/modules/preprocessing.html\n",
            "  self.n_iter_ = _check_optimize_result(\"lbfgs\", opt_res, self.max_iter)\n",
            "/usr/local/lib/python3.11/dist-packages/sklearn/model_selection/_split.py:805: UserWarning: The least populated class in y has only 1 members, which is less than n_splits=5.\n",
            "  warnings.warn(\n",
            "/usr/local/lib/python3.11/dist-packages/sklearn/neural_network/_multilayer_perceptron.py:546: ConvergenceWarning: lbfgs failed to converge (status=1):\n",
            "STOP: TOTAL NO. of ITERATIONS REACHED LIMIT.\n",
            "\n",
            "Increase the number of iterations (max_iter) or scale the data as shown in:\n",
            "    https://scikit-learn.org/stable/modules/preprocessing.html\n",
            "  self.n_iter_ = _check_optimize_result(\"lbfgs\", opt_res, self.max_iter)\n",
            "/usr/local/lib/python3.11/dist-packages/sklearn/neural_network/_multilayer_perceptron.py:546: ConvergenceWarning: lbfgs failed to converge (status=1):\n",
            "STOP: TOTAL NO. of ITERATIONS REACHED LIMIT.\n",
            "\n",
            "Increase the number of iterations (max_iter) or scale the data as shown in:\n",
            "    https://scikit-learn.org/stable/modules/preprocessing.html\n",
            "  self.n_iter_ = _check_optimize_result(\"lbfgs\", opt_res, self.max_iter)\n",
            "/usr/local/lib/python3.11/dist-packages/sklearn/neural_network/_multilayer_perceptron.py:546: ConvergenceWarning: lbfgs failed to converge (status=1):\n",
            "STOP: TOTAL NO. of ITERATIONS REACHED LIMIT.\n",
            "\n",
            "Increase the number of iterations (max_iter) or scale the data as shown in:\n",
            "    https://scikit-learn.org/stable/modules/preprocessing.html\n",
            "  self.n_iter_ = _check_optimize_result(\"lbfgs\", opt_res, self.max_iter)\n",
            "/usr/local/lib/python3.11/dist-packages/sklearn/neural_network/_multilayer_perceptron.py:546: ConvergenceWarning: lbfgs failed to converge (status=1):\n",
            "STOP: TOTAL NO. of ITERATIONS REACHED LIMIT.\n",
            "\n",
            "Increase the number of iterations (max_iter) or scale the data as shown in:\n",
            "    https://scikit-learn.org/stable/modules/preprocessing.html\n",
            "  self.n_iter_ = _check_optimize_result(\"lbfgs\", opt_res, self.max_iter)\n",
            "/usr/local/lib/python3.11/dist-packages/sklearn/neural_network/_multilayer_perceptron.py:546: ConvergenceWarning: lbfgs failed to converge (status=1):\n",
            "STOP: TOTAL NO. of ITERATIONS REACHED LIMIT.\n",
            "\n",
            "Increase the number of iterations (max_iter) or scale the data as shown in:\n",
            "    https://scikit-learn.org/stable/modules/preprocessing.html\n",
            "  self.n_iter_ = _check_optimize_result(\"lbfgs\", opt_res, self.max_iter)\n",
            "/usr/local/lib/python3.11/dist-packages/sklearn/model_selection/_split.py:805: UserWarning: The least populated class in y has only 1 members, which is less than n_splits=5.\n",
            "  warnings.warn(\n",
            "/usr/local/lib/python3.11/dist-packages/sklearn/neural_network/_multilayer_perceptron.py:546: ConvergenceWarning: lbfgs failed to converge (status=1):\n",
            "STOP: TOTAL NO. of ITERATIONS REACHED LIMIT.\n",
            "\n",
            "Increase the number of iterations (max_iter) or scale the data as shown in:\n",
            "    https://scikit-learn.org/stable/modules/preprocessing.html\n",
            "  self.n_iter_ = _check_optimize_result(\"lbfgs\", opt_res, self.max_iter)\n",
            "/usr/local/lib/python3.11/dist-packages/sklearn/neural_network/_multilayer_perceptron.py:546: ConvergenceWarning: lbfgs failed to converge (status=1):\n",
            "STOP: TOTAL NO. of ITERATIONS REACHED LIMIT.\n",
            "\n",
            "Increase the number of iterations (max_iter) or scale the data as shown in:\n",
            "    https://scikit-learn.org/stable/modules/preprocessing.html\n",
            "  self.n_iter_ = _check_optimize_result(\"lbfgs\", opt_res, self.max_iter)\n",
            "/usr/local/lib/python3.11/dist-packages/sklearn/neural_network/_multilayer_perceptron.py:546: ConvergenceWarning: lbfgs failed to converge (status=1):\n",
            "STOP: TOTAL NO. of ITERATIONS REACHED LIMIT.\n",
            "\n",
            "Increase the number of iterations (max_iter) or scale the data as shown in:\n",
            "    https://scikit-learn.org/stable/modules/preprocessing.html\n",
            "  self.n_iter_ = _check_optimize_result(\"lbfgs\", opt_res, self.max_iter)\n",
            "/usr/local/lib/python3.11/dist-packages/sklearn/neural_network/_multilayer_perceptron.py:546: ConvergenceWarning: lbfgs failed to converge (status=1):\n",
            "STOP: TOTAL NO. of ITERATIONS REACHED LIMIT.\n",
            "\n",
            "Increase the number of iterations (max_iter) or scale the data as shown in:\n",
            "    https://scikit-learn.org/stable/modules/preprocessing.html\n",
            "  self.n_iter_ = _check_optimize_result(\"lbfgs\", opt_res, self.max_iter)\n",
            "/usr/local/lib/python3.11/dist-packages/sklearn/neural_network/_multilayer_perceptron.py:546: ConvergenceWarning: lbfgs failed to converge (status=1):\n",
            "STOP: TOTAL NO. of ITERATIONS REACHED LIMIT.\n",
            "\n",
            "Increase the number of iterations (max_iter) or scale the data as shown in:\n",
            "    https://scikit-learn.org/stable/modules/preprocessing.html\n",
            "  self.n_iter_ = _check_optimize_result(\"lbfgs\", opt_res, self.max_iter)\n",
            "/usr/local/lib/python3.11/dist-packages/sklearn/model_selection/_split.py:805: UserWarning: The least populated class in y has only 1 members, which is less than n_splits=5.\n",
            "  warnings.warn(\n",
            "/usr/local/lib/python3.11/dist-packages/sklearn/neural_network/_multilayer_perceptron.py:546: ConvergenceWarning: lbfgs failed to converge (status=1):\n",
            "STOP: TOTAL NO. of ITERATIONS REACHED LIMIT.\n",
            "\n",
            "Increase the number of iterations (max_iter) or scale the data as shown in:\n",
            "    https://scikit-learn.org/stable/modules/preprocessing.html\n",
            "  self.n_iter_ = _check_optimize_result(\"lbfgs\", opt_res, self.max_iter)\n",
            "/usr/local/lib/python3.11/dist-packages/sklearn/neural_network/_multilayer_perceptron.py:546: ConvergenceWarning: lbfgs failed to converge (status=1):\n",
            "STOP: TOTAL NO. of ITERATIONS REACHED LIMIT.\n",
            "\n",
            "Increase the number of iterations (max_iter) or scale the data as shown in:\n",
            "    https://scikit-learn.org/stable/modules/preprocessing.html\n",
            "  self.n_iter_ = _check_optimize_result(\"lbfgs\", opt_res, self.max_iter)\n",
            "/usr/local/lib/python3.11/dist-packages/sklearn/neural_network/_multilayer_perceptron.py:546: ConvergenceWarning: lbfgs failed to converge (status=1):\n",
            "STOP: TOTAL NO. of ITERATIONS REACHED LIMIT.\n",
            "\n",
            "Increase the number of iterations (max_iter) or scale the data as shown in:\n",
            "    https://scikit-learn.org/stable/modules/preprocessing.html\n",
            "  self.n_iter_ = _check_optimize_result(\"lbfgs\", opt_res, self.max_iter)\n",
            "/usr/local/lib/python3.11/dist-packages/sklearn/neural_network/_multilayer_perceptron.py:546: ConvergenceWarning: lbfgs failed to converge (status=1):\n",
            "STOP: TOTAL NO. of ITERATIONS REACHED LIMIT.\n",
            "\n",
            "Increase the number of iterations (max_iter) or scale the data as shown in:\n",
            "    https://scikit-learn.org/stable/modules/preprocessing.html\n",
            "  self.n_iter_ = _check_optimize_result(\"lbfgs\", opt_res, self.max_iter)\n"
          ]
        },
        {
          "output_type": "stream",
          "name": "stdout",
          "text": [
            "5\n",
            "{'fit_time': np.float64(0.8272712230682373), 'score_time': np.float64(0.008568811416625976), 'test_mse': np.float64(8129.561924907456), 'train_mse': np.float64(5918.217164032911), 'test_r2': np.float64(-0.3470166964917073), 'train_r2': np.float64(0.037511865567908864)}\n",
            "10\n",
            "{'fit_time': np.float64(0.002317523956298828), 'score_time': np.float64(0.0026166439056396484), 'test_mse': np.float64(4001.028958491329), 'train_mse': np.float64(2504.1648648268456), 'test_r2': np.float64(0.3130231123579805), 'train_r2': np.float64(0.5909975895524135)}\n",
            "50\n",
            "{'fit_time': np.float64(0.0029506683349609375), 'score_time': np.float64(0.0018105506896972656), 'test_mse': np.float64(5563.630610397755), 'train_mse': np.float64(602.5846598846633), 'test_r2': np.float64(0.05423827712260791), 'train_r2': np.float64(0.9015030261364165)}\n",
            "100\n",
            "{'fit_time': np.float64(0.0031748294830322267), 'score_time': np.float64(0.0018126487731933594), 'test_mse': np.float64(6284.694472125367), 'train_mse': np.float64(108.00098620253543), 'test_r2': np.float64(-0.06597095032738645), 'train_r2': np.float64(0.982369221207637)}\n",
            "500\n",
            "{'fit_time': np.float64(0.00338897705078125), 'score_time': np.float64(0.002107524871826172), 'test_mse': np.float64(6372.406663141195), 'train_mse': np.float64(0.0), 'test_r2': np.float64(-0.080009505546321), 'train_r2': np.float64(1.0)}\n",
            "1000\n",
            "{'fit_time': np.float64(0.0035080909729003906), 'score_time': np.float64(0.002462291717529297), 'test_mse': np.float64(6372.406663141195), 'train_mse': np.float64(0.0), 'test_r2': np.float64(-0.080009505546321), 'train_r2': np.float64(1.0)}\n",
            "1\n",
            "{'fit_time': np.float64(0.2595412254333496), 'score_time': np.float64(0.0030481815338134766), 'test_mse': np.float64(7625.529349550503), 'train_mse': np.float64(197.53839950372208), 'test_r2': np.float64(-0.2873422032408349), 'train_r2': np.float64(0.9686575581359044)}\n",
            "2\n",
            "{'fit_time': np.float64(0.23627128601074218), 'score_time': np.float64(0.0031577587127685548), 'test_mse': np.float64(7062.423426758329), 'train_mse': np.float64(456.0857222149667), 'test_r2': np.float64(-0.18851786611190774), 'train_r2': np.float64(0.9251663195528032)}\n",
            "3\n",
            "{'fit_time': np.float64(0.23664231300354005), 'score_time': np.float64(0.0030086994171142577), 'test_mse': np.float64(6488.822210470651), 'train_mse': np.float64(2248.489506334073), 'test_r2': np.float64(-0.08178404493372635), 'train_r2': np.float64(0.6328064094879855)}\n",
            "4\n",
            "{'fit_time': np.float64(0.47217621803283694), 'score_time': np.float64(0.006007003784179688), 'test_mse': np.float64(8110.894235854044), 'train_mse': np.float64(5052.831516912629), 'test_r2': np.float64(-0.38331358237524255), 'train_r2': np.float64(0.17697951051805133)}\n",
            "6\n",
            "{'fit_time': np.float64(0.5113413810729981), 'score_time': np.float64(0.004256772994995117), 'test_mse': np.float64(6478.380433632999), 'train_mse': np.float64(5600.563748857256), 'test_r2': np.float64(-0.1037747174123365), 'train_r2': np.float64(0.09360155182162744)}\n"
          ]
        },
        {
          "output_type": "stream",
          "name": "stderr",
          "text": [
            "/usr/local/lib/python3.11/dist-packages/sklearn/neural_network/_multilayer_perceptron.py:546: ConvergenceWarning: lbfgs failed to converge (status=1):\n",
            "STOP: TOTAL NO. of ITERATIONS REACHED LIMIT.\n",
            "\n",
            "Increase the number of iterations (max_iter) or scale the data as shown in:\n",
            "    https://scikit-learn.org/stable/modules/preprocessing.html\n",
            "  self.n_iter_ = _check_optimize_result(\"lbfgs\", opt_res, self.max_iter)\n"
          ]
        }
      ]
    },
    {
      "cell_type": "code",
      "source": [
        "my_pipeline = my_pipeline = Pipeline(steps=[\n",
        "    ('model', MLPClassifier(solver='lbfgs', alpha=1e-5,\n",
        "                            hidden_layer_sizes=best_no_hidden_layers,\n",
        "                            random_state=1, max_iter=100))\n",
        "]) # TODO: Recrează pipeline folosing cei mai buni parametri\n",
        "my_pipeline.fit(x_train, y_train) # TODO: Aplică funcția fit pentru pipeline\n",
        "trained_mlp = my_pipeline['model']\n",
        "y_pred = trained_mlp.predict(x_test)"
      ],
      "metadata": {
        "id": "fq3YsbQ4fia9",
        "colab": {
          "base_uri": "https://localhost:8080/"
        },
        "outputId": "481c4d87-9c95-41c1-d9eb-aa930b68928e"
      },
      "execution_count": null,
      "outputs": [
        {
          "output_type": "stream",
          "name": "stderr",
          "text": [
            "/usr/local/lib/python3.11/dist-packages/sklearn/neural_network/_multilayer_perceptron.py:546: ConvergenceWarning: lbfgs failed to converge (status=1):\n",
            "STOP: TOTAL NO. of ITERATIONS REACHED LIMIT.\n",
            "\n",
            "Increase the number of iterations (max_iter) or scale the data as shown in:\n",
            "    https://scikit-learn.org/stable/modules/preprocessing.html\n",
            "  self.n_iter_ = _check_optimize_result(\"lbfgs\", opt_res, self.max_iter)\n"
          ]
        }
      ]
    },
    {
      "cell_type": "code",
      "source": [
        "# salvează model\n",
        "with open(f'path.pickle', 'wb') as handle:\n",
        "    pk.dump(trained_mlp, handle, protocol=pk.HIGHEST_PROTOCOL)"
      ],
      "metadata": {
        "id": "X5ENQ2vlfisu"
      },
      "execution_count": null,
      "outputs": []
    },
    {
      "cell_type": "code",
      "source": [
        "# încarcă model\n",
        "with open(f'path.pickle', 'rb') as handle:\n",
        "    trained_mlp = pk.load(handle)"
      ],
      "metadata": {
        "id": "aJpDnuhtfqRW"
      },
      "execution_count": null,
      "outputs": []
    },
    {
      "cell_type": "markdown",
      "source": [
        "## A4 - Temă\n",
        "1.\tImplementarea Random Forest pentru problemele de clasificare și regresie (20p):\n",
        "2.\tLa alegere (20p):\n",
        " 1.\tAplicarea unei rețele neuronale făcută în pytorch sau tensorflow pe problemele prezentate la lab\n",
        " 1.\tAplicarea unei rețele neuronale făcută în pytorch sau tensorflow pe o problemă nouă\n",
        "        *\tPosibile aplicări: clasificare de imagini, analiză de text sau generare de date\n",
        "1.\tScrierea de documentație drept un Jupyter Notebook sau un document word/pdf (35p)\n",
        "  *\tDocumentare cod\n",
        "  *\tExplicarea funcțiilor pe pași\n",
        "  *\tTabel cu rezultate pentru fiecare instanță a problemei prentru minim 5 valori diferite de parametri\n",
        "        *\tIncluzând tabele cu rezultate pentru algoritmi implementați la lab\n",
        "  *\tVizualizare rezultate între interații\n",
        "  *\tAnaliza rezultatelor\n",
        "        *\tComparare cu soluțiile implementate în timpul laboratorului unde se poate\n",
        "\n",
        "**Total Punctaj A4-Temă= 75p**\n",
        "\n",
        "**Deadline Lab 5**\n"
      ],
      "metadata": {
        "id": "0kPUhY5tNFKw"
      }
    },
    {
      "cell_type": "code",
      "source": [
        "import numpy as np\n",
        "import matplotlib.pyplot as plt\n",
        "import random\n",
        "import math\n",
        "import time\n",
        "# Importuri legate de sklearn\n",
        "from sklearn import datasets\n",
        "from sklearn.tree import DecisionTreeClassifier, DecisionTreeRegressor\n",
        "from sklearn.pipeline import Pipeline\n",
        "from sklearn.neural_network import MLPClassifier, MLPRegressor\n",
        "from sklearn.metrics import make_scorer, accuracy_score, precision_score, recall_score, f1_score,classification_report, mean_squared_error, r2_score, ConfusionMatrixDisplay\n",
        "from sklearn.preprocessing import MinMaxScaler, StandardScaler, MaxAbsScaler, Normalizer\n",
        "from sklearn.model_selection import cross_validate, train_test_split"
      ],
      "metadata": {
        "id": "K-Ufgf7qeaEi"
      },
      "execution_count": 31,
      "outputs": []
    },
    {
      "cell_type": "markdown",
      "source": [
        "### Random Forest Iris Classifier"
      ],
      "metadata": {
        "id": "sfH1JnBF7Rcg"
      }
    },
    {
      "cell_type": "code",
      "source": [
        "from sklearn.ensemble import RandomForestClassifier\n",
        "from sklearn import datasets\n",
        "\n",
        "# Încărcarea Datelor\n",
        "iris = datasets.load_iris()\n",
        "X = iris.data\n",
        "y = iris.target\n",
        "\n",
        "# Standardizare\n",
        "scaler = StandardScaler()\n",
        "X = scaler.fit_transform(X)\n",
        "\n",
        "# Separarea datelor\n",
        "x_train, x_test, y_train, y_test = train_test_split(X, y, test_size=0.3, random_state=42)\n",
        "print(x_train[:5])\n",
        "print(y_train[:5])"
      ],
      "metadata": {
        "id": "8pvajHRx_ZW2",
        "colab": {
          "base_uri": "https://localhost:8080/"
        },
        "outputId": "38fc4e48-e8ac-4d1c-c97b-7cecfd48a984"
      },
      "execution_count": 39,
      "outputs": [
        {
          "output_type": "stream",
          "name": "stdout",
          "text": [
            "[[-0.41600969 -1.51316008 -0.03296571 -0.26238682]\n",
            " [ 0.55333328 -0.59237301  0.76275827  0.3957741 ]\n",
            " [ 0.67450115  0.09821729  0.99010798  0.79067065]\n",
            " [ 0.91683689 -0.13197948  0.36489628  0.26414192]\n",
            " [ 1.64384411  1.24920112  1.33113254  1.71209594]]\n",
            "[1 2 2 1 2]\n"
          ]
        }
      ]
    },
    {
      "cell_type": "code",
      "execution_count": 40,
      "metadata": {
        "id": "qefpONjmlkc1",
        "colab": {
          "base_uri": "https://localhost:8080/"
        },
        "outputId": "ddb06716-fd29-4c9e-c83a-cf57a9dfdadd"
      },
      "outputs": [
        {
          "output_type": "stream",
          "name": "stdout",
          "text": [
            "Iris Accuracy 1.0\n"
          ]
        }
      ],
      "source": [
        "def get_score_rf(X, y, n_estimators):\n",
        "  \"\"\"\n",
        "  Antrenarea clasificatorului\n",
        "  INPUT\n",
        "  -----\n",
        "  X: features\n",
        "  y: labels\n",
        "  n_estimators: numarul de arbori in random forest\n",
        "  OUTPUT\n",
        "  ------\n",
        "  rf_clf: clasificatorul antrenat\n",
        "  \"\"\"\n",
        "  rf_clf = RandomForestClassifier(n_estimators, random_state=42)\n",
        "  rf_clf.fit(x_train, y_train)\n",
        "  return rf_clf\n",
        "\n",
        "\n",
        "y_pred = get_score_rf(x_train, y_train, 100).predict(x_test)\n",
        "print(\"Iris Accuracy\", accuracy_score(y_test, y_pred))"
      ]
    },
    {
      "cell_type": "markdown",
      "source": [
        "#### Confusion Matrix"
      ],
      "metadata": {
        "id": "pPen3ki27mRQ"
      }
    },
    {
      "cell_type": "code",
      "source": [
        "# Confusion Matrix\n",
        "cm_iris = confusion_matrix(y_test, y_pred)\n",
        "disp_iris = ConfusionMatrixDisplay(confusion_matrix=cm_iris, display_labels=iris.target_names)\n",
        "\n",
        "plt.figure(figsize=(6, 5))\n",
        "disp_iris.plot(cmap=plt.cm.Greens, values_format='d')\n",
        "plt.title(\"Confusion Matrix - Iris Random Forest Classifier\")\n",
        "plt.show()"
      ],
      "metadata": {
        "colab": {
          "base_uri": "https://localhost:8080/",
          "height": 489
        },
        "id": "4lTfWd5xeW-Q",
        "outputId": "42e4dfbe-7049-492b-9207-e0b8e2a7b51e"
      },
      "execution_count": 41,
      "outputs": [
        {
          "output_type": "display_data",
          "data": {
            "text/plain": [
              "<Figure size 600x500 with 0 Axes>"
            ]
          },
          "metadata": {}
        },
        {
          "output_type": "display_data",
          "data": {
            "text/plain": [
              "<Figure size 640x480 with 2 Axes>"
            ],
            "image/png": "[encoded data removed]"
          },
          "metadata": {}
        }
      ]
    },
    {
      "cell_type": "markdown",
      "source": [
        "### Random Forest Diabetes Regressor"
      ],
      "metadata": {
        "id": "jljM6kkL7r9t"
      }
    },
    {
      "cell_type": "code",
      "source": [
        "from sklearn.ensemble import RandomForestRegressor\n",
        "\n",
        "# Încărcarea datelor\n",
        "diabetes = datasets.load_diabetes()\n",
        "X = diabetes.data\n",
        "y = diabetes.target\n",
        "\n",
        "# Standardizare\n",
        "scaler = StandardScaler()\n",
        "X = scaler.fit_transform(X)\n",
        "\n",
        "# Separarea datelor\n",
        "x_train, x_test, y_train, y_test = train_test_split(X, y, test_size=0.2, random_state=42)\n",
        "\n",
        "def get_score_rf(x_train, y_train, n_estimators):\n",
        "  \"\"\"\n",
        "  Antrenarea regresorului\n",
        "  INPUT\n",
        "  -----\n",
        "  X: features\n",
        "  y: labels\n",
        "  n_estimators: numarul de arbori in random forest\n",
        "  OUTPUT\n",
        "  ------\n",
        "  rf_clf: regresorul antrenat\n",
        "  \"\"\"\n",
        "  rf_reg = RandomForestRegressor(n_estimators, random_state=42)\n",
        "  rf_reg.fit(x_train, y_train)\n",
        "  return rf_reg\n",
        "\n",
        "# Predicție și Evaluare\n",
        "y_pred = get_score_rf(x_train, y_train, 100).predict(x_test)\n",
        "diabetes_r2 = r2_score(y_test, y_pred)\n",
        "print(f\"Diabetes Regression R2 Score: {diabetes_r2:.4f}\")"
      ],
      "metadata": {
        "colab": {
          "base_uri": "https://localhost:8080/"
        },
        "id": "OlXOALk132DL",
        "outputId": "329e431a-64cf-4c81-dfe3-ead2ba36fca2"
      },
      "execution_count": 42,
      "outputs": [
        {
          "output_type": "stream",
          "name": "stdout",
          "text": [
            "Diabetes Regression R2 Score: 0.4407\n"
          ]
        }
      ]
    },
    {
      "cell_type": "markdown",
      "source": [
        "#### Scatter Plot"
      ],
      "metadata": {
        "id": "gadDrDFa7xBr"
      }
    },
    {
      "cell_type": "code",
      "source": [
        "def scatter_plot_random_forest_diabetes():\n",
        "  plt.figure(figsize=(6, 6))\n",
        "  plt.scatter(y_test, y_pred, alpha=0.6)\n",
        "  plt.plot([y_test.min(), y_test.max()], [y_test.min(), y_test.max()], 'r--')\n",
        "  plt.xlabel(\"True Values\")\n",
        "  plt.ylabel(\"Predicted Values\")\n",
        "  plt.title(\"Diabetes - True vs Predicted\")\n",
        "  plt.grid(True)\n",
        "  plt.show()"
      ],
      "metadata": {
        "id": "PS7U1dFe7vEy"
      },
      "execution_count": 43,
      "outputs": []
    },
    {
      "cell_type": "markdown",
      "source": [
        "### Neural Network for Hand-Writen Digits Images"
      ],
      "metadata": {
        "id": "KRKq4xig73J6"
      }
    },
    {
      "cell_type": "code",
      "source": [
        "import torch\n",
        "import torch.nn as nn\n",
        "import torch.optim as optim\n",
        "from torchvision import datasets, transforms\n",
        "from torch.utils.data import DataLoader"
      ],
      "metadata": {
        "id": "poqoa9nn4eax"
      },
      "execution_count": 44,
      "outputs": []
    },
    {
      "cell_type": "code",
      "source": [
        "# Configurare\n",
        "device = torch.device(\"cuda\" if torch.cuda.is_available() else \"cpu\")\n",
        "# Transformări\n",
        "transform = transforms.Compose([transforms.ToTensor()])"
      ],
      "metadata": {
        "id": "vJHGXZ7g5Ic3"
      },
      "execution_count": 45,
      "outputs": []
    },
    {
      "cell_type": "code",
      "source": [
        "# Încărcarea datelor\n",
        "train_dataset = datasets.MNIST(root='./data', train=True, transform=transform, download=True)\n",
        "test_dataset = datasets.MNIST(root='./data', train=False, transform=transform, download=True)\n",
        "train_loader = DataLoader(train_dataset, batch_size=64, shuffle=True)\n",
        "test_loader = DataLoader(test_dataset, batch_size=1000)\n",
        "\n",
        "# Rețea Neuronală\n",
        "class MNISTNet(nn.Module):\n",
        "    def __init__(self):\n",
        "        super(MNISTNet, self).__init__()\n",
        "        self.net = nn.Sequential(\n",
        "            nn.Flatten(),\n",
        "            nn.Linear(28 * 28, 128),\n",
        "            nn.ReLU(),\n",
        "            nn.Linear(128, 64),\n",
        "            nn.ReLU(),\n",
        "            nn.Linear(64, 10)\n",
        "        )\n",
        "\n",
        "    def forward(self, x):\n",
        "        return self.net(x)"
      ],
      "metadata": {
        "id": "YiBurfp98UG-"
      },
      "execution_count": 46,
      "outputs": []
    },
    {
      "cell_type": "code",
      "source": [
        "# Lista cu optimizatori și rate de învățare\n",
        "optimizers_dict = {\n",
        "    'Adam': optim.Adam,\n",
        "    'SGD': optim.SGD,\n",
        "    'GD': lambda params, lr: optim.SGD(params, lr=lr)  # GD = SGD fără momentum\n",
        "}\n",
        "learning_rates = [0.01, 0.001, 0.0001]\n",
        "\n",
        "# Tabel Markdown\n",
        "markdown_table = \"| Optimizer | Learning Rate | Accuracy | Time (s) |\\n\"\n",
        "markdown_table += \"|-----------|----------------|----------|----------|\\n\""
      ],
      "metadata": {
        "id": "cVxYT6ZIjxcD"
      },
      "execution_count": 47,
      "outputs": []
    },
    {
      "cell_type": "code",
      "source": [
        "# Antrenare și evaluare pentru fiecare combinație de optimizer si learning_rate\n",
        "for opt_name, opt_func in optimizers_dict.items():\n",
        "    for lr in learning_rates:\n",
        "        model = MNISTNet().to(device)\n",
        "        criterion = nn.CrossEntropyLoss()\n",
        "        optimizer = opt_func(model.parameters(), lr=lr)\n",
        "\n",
        "        start = time.time()\n",
        "        for epoch in range(5):\n",
        "            model.train()\n",
        "            for data, target in train_loader:\n",
        "                data, target = data.to(device), target.to(device)\n",
        "                optimizer.zero_grad()\n",
        "                output = model(data)\n",
        "                loss = criterion(output, target)\n",
        "                loss.backward()\n",
        "                optimizer.step()\n",
        "        training_time = time.time() - start\n",
        "\n",
        "        # Evaluare\n",
        "        model.eval()\n",
        "        correct, total = 0, 0\n",
        "        with torch.no_grad():\n",
        "            for data, target in test_loader:\n",
        "                data, target = data.to(device), target.to(device)\n",
        "                output = model(data)\n",
        "                preds = output.argmax(dim=1)\n",
        "                correct += (preds == target).sum().item()\n",
        "                total += target.size(0)\n",
        "\n",
        "        accuracy = correct / total\n",
        "        markdown_table += f\"| {opt_name} | {lr} | {accuracy:.4f} | {training_time:.2f} |\\n\"\n",
        "markdown_table"
      ],
      "metadata": {
        "colab": {
          "base_uri": "https://localhost:8080/",
          "height": 70
        },
        "id": "nlfP-EeGjzvV",
        "outputId": "37d54dc6-e210-44b7-e8fc-2f5d3fc3952a"
      },
      "execution_count": 48,
      "outputs": [
        {
          "output_type": "execute_result",
          "data": {
            "text/plain": [
              "'| Optimizer | Learning Rate | Accuracy | Time (s) |\\n|-----------|----------------|----------|----------|\\n| Adam | 0.01 | 0.9669 | 66.17 |\\n| Adam | 0.001 | 0.9729 | 51.23 |\\n| Adam | 0.0001 | 0.9381 | 50.17 |\\n| SGD | 0.01 | 0.9118 | 42.86 |\\n| SGD | 0.001 | 0.6092 | 44.21 |\\n| SGD | 0.0001 | 0.2065 | 44.15 |\\n| GD | 0.01 | 0.9136 | 43.96 |\\n| GD | 0.001 | 0.6448 | 44.29 |\\n| GD | 0.0001 | 0.1199 | 45.23 |\\n'"
            ],
            "application/vnd.google.colaboratory.intrinsic+json": {
              "type": "string"
            }
          },
          "metadata": {},
          "execution_count": 48
        }
      ]
    },
    {
      "cell_type": "markdown",
      "source": [
        "| Optimizer | Learning Rate | Accuracy | Time (s) |\n",
        "|-----------|----------------|----------|----------|\n",
        "| Adam | 0.01 | 0.9669 | 66.17 |\n",
        "| Adam | 0.001 | 0.9729 | 51.23 |\n",
        "| Adam | 0.0001 | 0.9381 | 50.17 |\n",
        "| SGD | 0.01 | 0.9118 | 42.86 |\n",
        "| SGD | 0.001 | 0.6092 | 44.21 |\n",
        "| SGD | 0.0001 | 0.2065 | 44.15 |\n",
        "| GD | 0.01 | 0.9136 | 43.96 |\n",
        "| GD | 0.001 | 0.6448 | 44.29 |\n",
        "| GD | 0.0001 | 0.1199 | 45.23 |\n"
      ],
      "metadata": {
        "id": "YPdaja7Rj14m"
      }
    }
  ]
}